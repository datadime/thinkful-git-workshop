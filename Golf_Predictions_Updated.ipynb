{
  "nbformat": 4,
  "nbformat_minor": 0,
  "metadata": {
    "colab": {
      "name": "Golf Predictions - Updated.ipynb",
      "version": "0.3.2",
      "provenance": [],
      "collapsed_sections": [],
      "toc_visible": true,
      "include_colab_link": true
    },
    "kernelspec": {
      "name": "python3",
      "display_name": "Python 3"
    },
    "accelerator": "GPU"
  },
  "cells": [
    {
      "cell_type": "markdown",
      "metadata": {
        "id": "view-in-github",
        "colab_type": "text"
      },
      "source": [
        "<a href=\"https://colab.research.google.com/github/datadime/thinkful-git-workshop/blob/master/Golf_Predictions_Updated.ipynb\" target=\"_parent\"><img src=\"https://colab.research.google.com/assets/colab-badge.svg\" alt=\"Open In Colab\"/></a>"
      ]
    },
    {
      "metadata": {
        "id": "_1QF14cGl13S",
        "colab_type": "text"
      },
      "cell_type": "markdown",
      "source": [
        "# Seed and Target Data\n",
        "\n",
        "\n",
        "\n",
        "Today, we will be testing a decision tree model. Test data"
      ]
    },
    {
      "metadata": {
        "id": "qK_k_05xgnce",
        "colab_type": "code",
        "colab": {}
      },
      "cell_type": "code",
      "source": [
        "from sklearn import tree\n",
        "import pandas as pd\n",
        "\n",
        "\n"
      ],
      "execution_count": 0,
      "outputs": []
    },
    {
      "metadata": {
        "id": "LOLLnZlelwrT",
        "colab_type": "code",
        "colab": {}
      },
      "cell_type": "code",
      "source": [
        "#create empty data frame\n",
        "golf_df = pd.DataFrame()\n",
        "\n",
        "#add outlook\n",
        "golf_df['Outlook'] = ['sunny', 'sunny', 'overcast', 'rainy', 'rainy', 'rainy', \n",
        "                     'overcast', 'sunny', 'sunny', 'rainy', 'sunny', 'overcast',\n",
        "                     'overcast', 'rainy']\n",
        "\n",
        "#add temperature\n",
        "golf_df['Temperature'] = [92, 86, 83, 70, 60, 53, 62,\n",
        "                         75, 57, 72, 78, 69, 81, 71]\n",
        "\n",
        "#add humidity\n",
        "golf_df['Humidity'] = [40.3, 63.1, 35.3, 86.3, 72.4, 22.7, 27.0,\n",
        "                      80.7, 15.4, 25.1, 18.6, 58.3, 27.2, 39.3]\n",
        "\n",
        "#add windy\n",
        "golf_df['Windy'] = ['false', 'true', 'false', 'false', 'false', 'true', 'true',\n",
        "                   'false', 'false', 'false', 'true', 'true', 'false', 'true']\n",
        "\n",
        "#finally add play\n",
        "golf_df['Play'] = ['no', 'no', 'yes', 'yes', 'yes', 'no', 'yes', 'no', 'yes', \n",
        "                   'yes', 'yes', 'yes', 'yes', 'no']\n",
        "\n",
        "golf_df['weekday'] = ['yes', 'yes', 'no', 'yes', 'yes', 'no', 'yes', 'yes', \n",
        "                      'no', 'yes', 'yes', 'no','yes', 'yes']\n",
        "\n",
        "\n",
        "golf_df\n",
        "\n",
        "# this data is not ready for machine learning b/c there are both categorical and\n",
        "# numerical values\n",
        "# -- need to make strings and chars into integers\n",
        "\n",
        "\n"
      ],
      "execution_count": 0,
      "outputs": []
    },
    {
      "metadata": {
        "id": "JalU24cKh371",
        "colab_type": "code",
        "colab": {}
      },
      "cell_type": "code",
      "source": [
        "# one hot encoding using pandas (although sklearn also has a function)\n",
        "one_hot_data = pd.get_dummies(golf_df[['Outlook', 'Windy']]\n",
        "\n",
        "\n",
        "\n",
        "# print out this new formatted data to see what happened\n",
        "one_hot_data\n",
        "\n",
        "\n",
        "\n",
        "\n",
        "\n",
        "\n",
        "\n",
        "\n",
        "\n",
        "\n",
        "\n",
        "\n",
        "\n",
        "\n",
        "\n",
        "\n",
        "\n",
        "\n",
        "\n",
        "\n",
        "\n",
        "\n"
      ],
      "execution_count": 0,
      "outputs": []
    },
    {
      "metadata": {
        "id": "BTJ17s3fnRKb",
        "colab_type": "code",
        "colab": {}
      },
      "cell_type": "code",
      "source": [
        ""
      ],
      "execution_count": 0,
      "outputs": []
    },
    {
      "metadata": {
        "id": "pnKyNPTKmkg3",
        "colab_type": "code",
        "colab": {}
      },
      "cell_type": "code",
      "source": [
        ""
      ],
      "execution_count": 0,
      "outputs": []
    },
    {
      "metadata": {
        "id": "QNVW4yz6ieZR",
        "colab_type": "code",
        "colab": {}
      },
      "cell_type": "code",
      "source": [
        "# clf= tree.DecisionTreeClassifier()\n",
        "#fit my decision tree with me new encoded data, and then  the target data \n",
        "\n",
        "golf_one_hot = golf_df[['temperature' , 'Humidity ']].join( one_hot_data) \n",
        "golf.dot.one\n",
        "\n",
        "#run our prediction\n",
        "#Temperature=72  Humidity =15.3 Outlook \n",
        "\n",
        "\n",
        "\n",
        "                      "
      ],
      "execution_count": 0,
      "outputs": []
    },
    {
      "metadata": {
        "id": "2_Hz5CJZli44",
        "colab_type": "code",
        "colab": {}
      },
      "cell_type": "code",
      "source": [
        ""
      ],
      "execution_count": 0,
      "outputs": []
    }
  ]
}